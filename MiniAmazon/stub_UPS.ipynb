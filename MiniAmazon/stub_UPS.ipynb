{
 "cells": [
  {
   "cell_type": "code",
   "execution_count": 1,
   "metadata": {},
   "outputs": [],
   "source": [
    "from amazon.backend.database import *\n",
    "from amazon.backend import socketUtils, UPSMessage, WorldMessage, request, query, socketUtils\n",
    "from amazon.backend import amazon_ups_pb2 as UPS\n",
    "from amazon.backend import world_amazon_pb2 as WORLD\n",
    "import socket"
   ]
  },
  {
   "cell_type": "code",
   "execution_count": 2,
   "metadata": {},
   "outputs": [],
   "source": [
    "seqnum = 1"
   ]
  },
  {
   "cell_type": "code",
   "execution_count": 3,
   "metadata": {},
   "outputs": [
    {
     "name": "stdout",
     "output_type": "stream",
     "text": [
      "Server listening on vcm-30469.vm.duke.edu:32345\n"
     ]
    }
   ],
   "source": [
    "sock = socket.socket(socket.AF_INET, socket.SOCK_STREAM)\n",
    "sock.setsockopt(socket.SOL_SOCKET, socket.SO_REUSEADDR, 1)\n",
    "port = 32345\n",
    "hostname = socket.gethostname()\n",
    "local_ip = socket.gethostbyname(hostname)\n",
    "sock.bind((local_ip, port))\n",
    "sock.listen()\n",
    "print(f\"Server listening on {hostname}:{port}\")"
   ]
  },
  {
   "cell_type": "code",
   "execution_count": 4,
   "metadata": {},
   "outputs": [
    {
     "name": "stdout",
     "output_type": "stream",
     "text": [
      "\n"
     ]
    }
   ],
   "source": [
    "amazon, address = sock.accept()\n",
    "print(\"connect to amazon\")\n",
    "while True:\n",
    "    try:\n",
    "        command = UPS.ATUCommands()\n",
    "        command.ParseFromString(socketUtils.recv_message(amazon))\n",
    "        print(command)\n",
    "        for m in command.topickup:\n",
    "            response = UPS.UTACommands()\n",
    "            arrive = UPS.UTAArrived()\n",
    "            arrive.packageid.append(m.packageid)\n",
    "            arrive.truckid = 1\n",
    "            arrive.whid = m.whid\n",
    "            arrive.seqnum = seqnum + 1\n",
    "            response.arrive.append(arrive)\n",
    "            socketUtils.send_message(amazon, response)\n",
    "    except Exception as e:\n",
    "        print(e)\n"
   ]
  },
  {
   "cell_type": "code",
   "execution_count": null,
   "metadata": {},
   "outputs": [],
   "source": []
  }
 ],
 "metadata": {
  "kernelspec": {
   "display_name": "Python 3",
   "language": "python",
   "name": "python3"
  },
  "language_info": {
   "codemirror_mode": {
    "name": "ipython",
    "version": 3
   },
   "file_extension": ".py",
   "mimetype": "text/x-python",
   "name": "python",
   "nbconvert_exporter": "python",
   "pygments_lexer": "ipython3",
   "version": "3.8.10"
  },
  "orig_nbformat": 4
 },
 "nbformat": 4,
 "nbformat_minor": 2
}
