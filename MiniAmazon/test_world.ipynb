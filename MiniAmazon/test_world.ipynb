{
 "cells": [
  {
   "cell_type": "code",
   "execution_count": 1,
   "metadata": {},
   "outputs": [],
   "source": [
    "from amazon.backend.database import *\n",
    "from amazon.backend import socketUtils, request, query\n",
    "from amazon.backend.WorldMessage import WorldMessage\n",
    "# from amazon.backend.UPSMessage import UPSMessage\n",
    "from amazon.backend import amazon_ups_pb2 as UPS\n",
    "from amazon.backend import world_amazon_pb2 as WORLD\n",
    "from PIL import Image\n",
    "import io\n",
    "import copy\n",
    "\n",
    "import struct"
   ]
  },
  {
   "cell_type": "code",
   "execution_count": 2,
   "metadata": {},
   "outputs": [],
   "source": [
    "package_id = 0\n",
    "def buy_product(user_id, product_id, amount, address):\n",
    "    sock = socketUtils.socket_connect(\"vcm-30469.vm.duke.edu\",29081)\n",
    "    # modify databse，generate packageid,\n",
    "    global package_id\n",
    "    engine = getEngine()\n",
    "    Session = sessionmaker(bind=engine)\n",
    "    session = Session()\n",
    "\n",
    "    # need lock\n",
    "    # package_id =session.execute(select(func.max(Order.id))).scalar()+1\n",
    "    package_id += 1\n",
    "    # \n",
    "    neworder = Order(buyer = user_id, product_id = product_id, amount = amount, status = 'packing', package = package_id)\n",
    "    session.add(neworder)\n",
    "    session.commit()\n",
    "    product = session.query(Products).filter(Products.id == product_id).first()\n",
    "\n",
    "    value = struct.pack('!I', package_id)\n",
    "    sock.sendall(value)\n",
    "    value = struct.pack('!I', address[0])\n",
    "    sock.sendall(value)\n",
    "    value = struct.pack('!I', address[1])\n",
    "    sock.sendall(value)\n",
    "    \n",
    "    d = sock.recv(4)\n",
    "    length = struct.unpack('!I', d)[0]\n",
    "    message = sock.recv(length).decode()\n",
    "    print(message)\n",
    "    if(message != 'Success'):\n",
    "        return message\n",
    "    \n",
    "\n",
    "    print(user_id,product_id,amount,address) \n",
    "    pass"
   ]
  },
  {
   "cell_type": "code",
   "execution_count": 19,
   "metadata": {},
   "outputs": [
    {
     "name": "stdout",
     "output_type": "stream",
     "text": [
      "connect to vcm-30469.vm.duke.edu\n",
      "Success\n",
      "1 0 1 (1, 5)\n",
      "connect to vcm-30469.vm.duke.edu\n",
      "Success\n",
      "2 0 2 (1, 6)\n",
      "connect to vcm-30469.vm.duke.edu\n",
      "Success\n",
      "1 1 3 (1, 7)\n",
      "connect to vcm-30469.vm.duke.edu\n",
      "Success\n",
      "2 1 5 (1, 8)\n"
     ]
    }
   ],
   "source": [
    "# buy_product(1, 0, 1, (1,2))\n",
    "# buy_product(2, 1, 9, (1,4))\n",
    "buy_product(1, 0, 1, (1,5))\n",
    "buy_product(2, 0, 2, (1,6))\n",
    "buy_product(1, 1, 3, (1,7))\n",
    "buy_product(2, 1, 5, (1,8))\n",
    "# buy_product(1, 1, 3, (1,9))\n",
    "# buy_product(2, 1, 4, (1,10))"
   ]
  },
  {
   "cell_type": "code",
   "execution_count": null,
   "metadata": {},
   "outputs": [],
   "source": []
  }
 ],
 "metadata": {
  "kernelspec": {
   "display_name": "Python 3",
   "language": "python",
   "name": "python3"
  },
  "language_info": {
   "codemirror_mode": {
    "name": "ipython",
    "version": 3
   },
   "file_extension": ".py",
   "mimetype": "text/x-python",
   "name": "python",
   "nbconvert_exporter": "python",
   "pygments_lexer": "ipython3",
   "version": "3.8.10"
  },
  "orig_nbformat": 4
 },
 "nbformat": 4,
 "nbformat_minor": 2
}
