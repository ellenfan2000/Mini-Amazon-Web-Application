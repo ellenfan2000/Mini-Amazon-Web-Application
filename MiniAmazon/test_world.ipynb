{
 "cells": [
  {
   "cell_type": "code",
   "execution_count": 1,
   "metadata": {},
   "outputs": [],
   "source": [
    "from amazon.backend.database import *\n",
    "from amazon.backend import socketUtils, UPSMessage, WorldMessage, request, query\n",
    "from amazon.backend import amazon_ups_pb2 as UPS\n",
    "from amazon.backend import world_amazon_pb2 as WORLD\n",
    "from PIL import Image\n",
    "import io\n",
    "import copy\n",
    "\n",
    "import struct"
   ]
  },
  {
   "cell_type": "code",
   "execution_count": 2,
   "metadata": {},
   "outputs": [],
   "source": [
    "package_id = 0\n",
    "def buy_product(user_id, product_id, amount, address):\n",
    "    sock = socketUtils.socket_connect(\"vcm-30469.vm.duke.edu\",29081)\n",
    "    # modify databse，generate packageid,\n",
    "    global package_id\n",
    "    engine = getEngine()\n",
    "    Session = sessionmaker(bind=engine)\n",
    "    session = Session()\n",
    "\n",
    "    # need lock\n",
    "    # package_id =session.execute(select(func.max(Order.id))).scalar()+1\n",
    "    package_id += 1\n",
    "    # \n",
    "    neworder = Order(buyer = user_id, product_id = product_id, amount = amount, status = 'packing', package = package_id)\n",
    "    session.add(neworder)\n",
    "    session.commit()\n",
    "    product = session.query(Products).filter(Products.id == product_id).first()\n",
    "\n",
    "    value = struct.pack('!I', package_id)\n",
    "    sock.sendall(value)\n",
    "    value = struct.pack('!I', address[0])\n",
    "    sock.sendall(value)\n",
    "    value = struct.pack('!I', address[1])\n",
    "    sock.sendall(value)\n",
    "    \n",
    "    d = sock.recv(4)\n",
    "    length = struct.unpack('!I', d)[0]\n",
    "    message = sock.recv(length).decode()\n",
    "    print(message)\n",
    "    if(message != 'Success'):\n",
    "        return message\n",
    "    \n",
    "\n",
    "    print(user_id,product_id,amount,address) \n",
    "    pass"
   ]
  },
  {
   "cell_type": "code",
   "execution_count": 3,
   "metadata": {},
   "outputs": [
    {
     "name": "stdout",
     "output_type": "stream",
     "text": [
      "connect to vcm-30469.vm.duke.edu\n"
     ]
    },
    {
     "ename": "error",
     "evalue": "unpack requires a buffer of 4 bytes",
     "output_type": "error",
     "traceback": [
      "\u001b[0;31m---------------------------------------------------------------------------\u001b[0m",
      "\u001b[0;31merror\u001b[0m                                     Traceback (most recent call last)",
      "Cell \u001b[0;32mIn[3], line 1\u001b[0m\n\u001b[0;32m----> 1\u001b[0m buy_product(\u001b[39m1\u001b[39;49m, \u001b[39m0\u001b[39;49m, \u001b[39m10\u001b[39;49m, (\u001b[39m1\u001b[39;49m,\u001b[39m2\u001b[39;49m))\n",
      "Cell \u001b[0;32mIn[2], line 27\u001b[0m, in \u001b[0;36mbuy_product\u001b[0;34m(user_id, product_id, amount, address)\u001b[0m\n\u001b[1;32m     24\u001b[0m sock\u001b[39m.\u001b[39msendall(value)\n\u001b[1;32m     26\u001b[0m d \u001b[39m=\u001b[39m sock\u001b[39m.\u001b[39mrecv(\u001b[39m4\u001b[39m)\n\u001b[0;32m---> 27\u001b[0m length \u001b[39m=\u001b[39m struct\u001b[39m.\u001b[39;49munpack(\u001b[39m'\u001b[39;49m\u001b[39m!I\u001b[39;49m\u001b[39m'\u001b[39;49m, d)[\u001b[39m0\u001b[39m]\n\u001b[1;32m     28\u001b[0m message \u001b[39m=\u001b[39m sock\u001b[39m.\u001b[39mrecv(length)\u001b[39m.\u001b[39mdecode()\n\u001b[1;32m     29\u001b[0m \u001b[39mprint\u001b[39m(message)\n",
      "\u001b[0;31merror\u001b[0m: unpack requires a buffer of 4 bytes"
     ]
    }
   ],
   "source": [
    "buy_product(1, 0, 10, (1,2))"
   ]
  },
  {
   "cell_type": "code",
   "execution_count": null,
   "metadata": {},
   "outputs": [],
   "source": []
  }
 ],
 "metadata": {
  "kernelspec": {
   "display_name": "Python 3",
   "language": "python",
   "name": "python3"
  },
  "language_info": {
   "codemirror_mode": {
    "name": "ipython",
    "version": 3
   },
   "file_extension": ".py",
   "mimetype": "text/x-python",
   "name": "python",
   "nbconvert_exporter": "python",
   "pygments_lexer": "ipython3",
   "version": "3.8.10"
  },
  "orig_nbformat": 4
 },
 "nbformat": 4,
 "nbformat_minor": 2
}
