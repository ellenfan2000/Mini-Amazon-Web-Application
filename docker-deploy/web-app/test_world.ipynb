{
 "cells": [
  {
   "cell_type": "code",
   "execution_count": 2,
   "metadata": {},
   "outputs": [],
   "source": [
    "from amazon.backend.database import *\n",
    "from amazon.backend import socketUtils, request, query\n",
    "from amazon.backend.WorldMessage import WorldMessage\n",
    "# from amazon.backend.UPSMessage import UPSMessage\n",
    "from amazon.backend import amazon_ups_pb2 as UPS\n",
    "from amazon.backend import world_amazon_pb2 as WORLD\n",
    "from PIL import Image\n",
    "import io\n",
    "import copy\n",
    "import socket\n",
    "import struct"
   ]
  },
  {
   "cell_type": "code",
   "execution_count": 3,
   "metadata": {},
   "outputs": [],
   "source": [
    "# package_id = 0\n",
    "# def buy_product(user_id, product_id, amount, address):\n",
    "#     sock = socketUtils.socket_connect(\"vcm-30469.vm.duke.edu\",29081)\n",
    "#     # modify databse，generate packageid,\n",
    "#     global package_id\n",
    "#     engine = getEngine()\n",
    "#     Session = sessionmaker(bind=engine)\n",
    "#     session = Session()\n",
    "\n",
    "#     # need lock\n",
    "#     # package_id =session.execute(select(func.max(Order.id))).scalar()+1\n",
    "#     package_id += 1\n",
    "#     # \n",
    "#     neworder = Order(buyer = user_id, product_id = product_id, amount = amount, status = 'packing', package = package_id)\n",
    "#     session.add(neworder)\n",
    "#     session.commit()\n",
    "#     product = session.query(Products).filter(Products.id == product_id).first()\n",
    "\n",
    "#     value = struct.pack('!I', package_id)\n",
    "#     sock.sendall(value)\n",
    "#     value = struct.pack('!I', address[0])\n",
    "#     sock.sendall(value)\n",
    "#     value = struct.pack('!I', address[1])\n",
    "#     sock.sendall(value)\n",
    "    \n",
    "#     d = sock.recv(4)\n",
    "#     length = struct.unpack('!I', d)[0]\n",
    "#     message = sock.recv(length).decode()\n",
    "#     print(message)\n",
    "#     if(message != 'Success'):\n",
    "#         return message\n",
    "    \n",
    "\n",
    "#     print(user_id,product_id,amount,address) \n",
    "#     pass"
   ]
  },
  {
   "cell_type": "code",
   "execution_count": 4,
   "metadata": {},
   "outputs": [],
   "source": [
    "package_id = 0\n",
    "def buy_product(user_id, product_id, amount, address,ups_account):\n",
    "    \n",
    "    sock = socketUtils.socket_connect(socket.gethostname(),29081)\n",
    "    # modify databse，generate packageid,\n",
    "    global package_id\n",
    "    engine = getEngine()\n",
    "    Session = sessionmaker(bind=engine)\n",
    "    session = Session()\n",
    "\n",
    "    # need lock\n",
    "    try:\n",
    "       package_id =session.execute(select(func.max(Order.id))).scalar()+1     \n",
    "    except:\n",
    "        package_id = 1\n",
    "    # package_id += 1\n",
    "    # \n",
    "    neworder = Order(buyer = user_id, product_id = product_id, amount = amount, status = 'packing', package = package_id,ups_account=ups_account)\n",
    "    session.add(neworder)\n",
    "    session.commit()\n",
    "    product = session.query(Products).filter(Products.id == product_id).first()\n",
    "\n",
    "    value = struct.pack('!I', package_id)\n",
    "    sock.sendall(value)\n",
    "    value = struct.pack('!I', address[0])\n",
    "    sock.sendall(value)\n",
    "    value = struct.pack('!I', address[1])\n",
    "    sock.sendall(value)\n",
    "\n",
    "    if (ups_account == None):\n",
    "        ups_account = 'NULL'\n",
    "    print(ups_account)\n",
    "    value = struct.pack('!I',len(ups_account))\n",
    "    sock.sendall(value)\n",
    "    sock.sendall(ups_account.encode())\n",
    "\n",
    "    d = sock.recv(4)\n",
    "    length = struct.unpack('!I', d)[0]\n",
    "    message = sock.recv(length).decode()\n",
    "    print(message)\n",
    "    print(user_id,product_id,amount,address) \n",
    "    if(message == 'Success'):\n",
    "        return neworder.id\n",
    "    else:\n",
    "        raise ValueError(message)"
   ]
  },
  {
   "cell_type": "code",
   "execution_count": 7,
   "metadata": {},
   "outputs": [
    {
     "name": "stdout",
     "output_type": "stream",
     "text": [
      "connect to vcm-30469.vm.duke.edu\n",
      "No enough inventory\n",
      "1 1 201 (1, 5)\n"
     ]
    },
    {
     "ename": "ValueError",
     "evalue": "No enough inventory",
     "output_type": "error",
     "traceback": [
      "\u001b[0;31m---------------------------------------------------------------------------\u001b[0m",
      "\u001b[0;31mValueError\u001b[0m                                Traceback (most recent call last)",
      "Cell \u001b[0;32mIn[7], line 3\u001b[0m\n\u001b[1;32m      1\u001b[0m \u001b[39m# buy_product(1, 0, 1, (1,2))\u001b[39;00m\n\u001b[1;32m      2\u001b[0m \u001b[39m# buy_product(2, 1, 9, (1,4))\u001b[39;00m\n\u001b[0;32m----> 3\u001b[0m buy_product(\u001b[39m1\u001b[39;49m, \u001b[39m1\u001b[39;49m, \u001b[39m201\u001b[39;49m, (\u001b[39m1\u001b[39;49m,\u001b[39m5\u001b[39;49m), \u001b[39mNone\u001b[39;49;00m)\n\u001b[1;32m      4\u001b[0m \u001b[39m# buy_product(2, 0, 2, (1,6))\u001b[39;00m\n\u001b[1;32m      5\u001b[0m \u001b[39m# buy_product(1, 1, 3, (1,7))\u001b[39;00m\n\u001b[1;32m      6\u001b[0m \u001b[39m# buy_product(2, 1, 5, (1,8))\u001b[39;00m\n\u001b[1;32m      7\u001b[0m \u001b[39m# buy_product(1, 1, 3, (1,9))\u001b[39;00m\n\u001b[1;32m      8\u001b[0m \u001b[39m# buy_product(2, 1, 4, (1,10))\u001b[39;00m\n",
      "Cell \u001b[0;32mIn[4], line 44\u001b[0m, in \u001b[0;36mbuy_product\u001b[0;34m(user_id, product_id, amount, address, ups_account)\u001b[0m\n\u001b[1;32m     42\u001b[0m     \u001b[39mreturn\u001b[39;00m neworder\u001b[39m.\u001b[39mid\n\u001b[1;32m     43\u001b[0m \u001b[39melse\u001b[39;00m:\n\u001b[0;32m---> 44\u001b[0m     \u001b[39mraise\u001b[39;00m \u001b[39mValueError\u001b[39;00m(message)\n",
      "\u001b[0;31mValueError\u001b[0m: No enough inventory"
     ]
    }
   ],
   "source": [
    "# buy_product(1, 0, 1, (1,2))\n",
    "# buy_product(2, 1, 9, (1,4))\n",
    "buy_product(1, 1, 201, (1,5), None)\n",
    "# buy_product(2, 0, 2, (1,6))\n",
    "# buy_product(1, 1, 3, (1,7))\n",
    "# buy_product(2, 1, 5, (1,8))\n",
    "# buy_product(1, 1, 3, (1,9))\n",
    "# buy_product(2, 1, 4, (1,10))"
   ]
  },
  {
   "cell_type": "code",
   "execution_count": null,
   "metadata": {},
   "outputs": [],
   "source": []
  }
 ],
 "metadata": {
  "kernelspec": {
   "display_name": "Python 3",
   "language": "python",
   "name": "python3"
  },
  "language_info": {
   "codemirror_mode": {
    "name": "ipython",
    "version": 3
   },
   "file_extension": ".py",
   "mimetype": "text/x-python",
   "name": "python",
   "nbconvert_exporter": "python",
   "pygments_lexer": "ipython3",
   "version": "3.8.10"
  },
  "orig_nbformat": 4
 },
 "nbformat": 4,
 "nbformat_minor": 2
}
